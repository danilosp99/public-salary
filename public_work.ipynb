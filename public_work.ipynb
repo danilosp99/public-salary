{
 "cells": [
  {
   "cell_type": "markdown",
   "metadata": {},
   "source": [
    "#### IMPORTACAO DE BIBLIOTECAS"
   ]
  },
  {
   "cell_type": "code",
   "execution_count": null,
   "metadata": {},
   "outputs": [],
   "source": [
    "##### BIBLIOTECA PARA MANIPULAÇÃO DE DADOS\n",
    "\n",
    "import pandas as pd\n",
    "import numpy as np\n",
    "import datetime\n",
    "from datetime import date\n",
    "import seaborn as sns\n",
    "\n",
    "##### CONFIGURAÇÃO DE UTILIZAÇÃO DO DRIVE\n",
    "import warnings\n",
    "\n",
    "##### VERIFICAÇÃO DE ENCONDING DE ARQUIVO\n",
    "import chardet"
   ]
  },
  {
   "cell_type": "markdown",
   "metadata": {},
   "source": [
    "#### CARREGANDO OS DADOS"
   ]
  },
  {
   "cell_type": "markdown",
   "metadata": {},
   "source": [
    "##### BUSCANDO QUAL É O ENCODING DO ARQUIVO"
   ]
  },
  {
   "cell_type": "code",
   "execution_count": null,
   "metadata": {},
   "outputs": [],
   "source": [
    "\"\"\"ERRO 1 - UnicodeDecodeError: 'utf-8' codec can't decode byte 0xc3 in position 14: invalid continuation byte\n",
    "\n",
    "--> Erro pelo encoding do arquivo ser diferente\n",
    "\"\"\"\n",
    "\n",
    "##### Função para detectar o encoding do arquivo\n",
    "def detectar_encoding(arquivo, sample_size=10000):\n",
    "    with open(arquivo, 'rb') as f:\n",
    "        # Lê apenas uma amostra inicial do arquivo\n",
    "        sample = f.read(sample_size)\n",
    "    return chardet.detect(sample)['encoding']\n",
    "\n",
    "# Uso\n",
    "encoding_arquivo = detectar_encoding('RemuneracaoAtivos.csv')\n",
    "print(f\"Encoding detectado: {encoding_arquivo}\")"
   ]
  },
  {
   "cell_type": "markdown",
   "metadata": {},
   "source": [
    "##### CARREGANDO OS DADOS COM O ENCODING E DELIMITADOR CORRETOS"
   ]
  },
  {
   "cell_type": "code",
   "execution_count": null,
   "metadata": {},
   "outputs": [],
   "source": [
    "\"\"\"ERRO 2 - ParserError: Error tokenizing data. C error: Expected 8 fields in line 230, saw 9\n",
    "\n",
    "--> Erro pelo arquivo estar sem delimitador\n",
    "\"\"\"\n",
    "# Carregar o arquivo usando o encoding detectado e delimitador\n",
    "\n",
    "ativos = pd.read_csv('RemuneracaoAtivos.csv', \n",
    "                     encoding=encoding_arquivo,\n",
    "                     delimiter=\";\",\n",
    "                     on_bad_lines='warn',\n",
    "\n",
    ")"
   ]
  },
  {
   "cell_type": "markdown",
   "metadata": {},
   "source": [
    "##### TRATAMENTO DE DADOS NA BASE"
   ]
  },
  {
   "cell_type": "markdown",
   "metadata": {},
   "source": [
    "##### RENOMEANDO COLUNAS"
   ]
  },
  {
   "cell_type": "code",
   "execution_count": null,
   "metadata": {},
   "outputs": [],
   "source": [
    "# VENDO A BASE\n",
    "\n",
    "ativos.head(2)\n",
    "ativos_alter = ativos.copy()\n",
    "\n",
    "\n",
    "\"\"\"\"\n",
    "PQ USAR O .copy()?\n",
    "\n",
    "1.2 - Explicar por que o código está causando o problema\n",
    "Quando você cria ativos_alter2 a partir de ativos sem usar .copy(), \n",
    "o Pandas pode criar uma \"view\" (uma referência aos dados originais) \n",
    "em vez de uma cópia independente. Assim, alterar ativos_alter2 modifica \n",
    "também o DataFrame original ativos. Isso é um comportamento clássico do Pandas \n",
    "chamado \"SettingWithCopyWarning\".\n",
    "\"\"\"\n",
    "\n",
    "\n",
    "# RENOMEANDO COLUNAS\n",
    "\n",
    "# Remove espaços e tabs no final dos nomes das colunas\n",
    "#strip = tira\n",
    "\n",
    "ativos_alter.columns.str.strip()\n",
    "\n",
    "# Agora renomeie (sem os caracteres extras)\n",
    "ativos_alter.rename(\n",
    "    columns={\n",
    "        \"ORGÃO\": \"ORGAO\",\n",
    "        \"REMUNERAÇÃO DO MÊS\": \"REMUNERACAO_MES\",\n",
    "        \"FÉRIAS E 13º SALÁRIO\": \"FERIAS_E_13\",\n",
    "        \"PAGAMENTOS EVENTUAIS\": \"PAGAMENTOS_EVENTUAIS\",\n",
    "        \"LICENÇA PRÊMIO INDENIZADA\": \"LICENCA_PREMIUM_INDENIZADA\",\n",
    "        \"ABONO PERMANÊNCIA & OUTRAS INDENIZAÇÕES\": \"ABONO_PERM_E_OUTRAS_INDENIZ\",\n",
    "        \"REDUTOR SALARIAL\": \"REDUTOR_SALARIAL\",\n",
    "        \"TOTAL LIQUÍDO (R$)\": \"TOTAL_LIQUIDO\"\n",
    "    }, \n",
    "    inplace=True\n",
    ")\n",
    "\n",
    "ativos_alter.head(2)\n"
   ]
  },
  {
   "cell_type": "markdown",
   "metadata": {},
   "source": [
    "##### VALIDANDO TIPO DE DADOS"
   ]
  },
  {
   "cell_type": "code",
   "execution_count": null,
   "metadata": {},
   "outputs": [],
   "source": [
    "# VERIFICANDO TIPAGEM DE TODAS AS COLUNAS\n",
    "\n",
    "# ativos_alter.info()\n",
    "\n",
    "# ALTERANDO TIPAGEM DE VARIAS COLUNAS\n",
    "\n",
    "colunas_string = [\"NOME\", \"CARGO\", \"ORGAO\", \"GRUPOS\"]\n",
    "ativos_alter[colunas_string] = ativos_alter[colunas_string].astype(\"string\")\n",
    "\n",
    "\n",
    "# TIPAGENS FORAM MUDADAS\n",
    "ativos_alter.info()\n",
    "\n",
    "\n",
    "\n",
    "\n",
    "\n",
    "\n",
    "\n",
    "# ativos_alter['REMUNERACAO_MES'] = pd.to_numeric(ativos_alter['REMUNERACAO_MES'], errors='coerce')\n",
    "# ativos_alter['FERIAS_E_13'] = pd.to_numeric(ativos_alter['FERIAS_E_13'], errors='coerce')\n",
    "# ativos_alter['PAGAMENTOS_EVENTUAIS'] = pd.to_numeric(ativos_alter['PAGAMENTOS_EVENTUAIS'], errors='coerce')\n",
    "# ativos_alter['LICENCA_PREMIUM_INDENIZADA'] = pd.to_numeric(ativos_alter['LICENCA_PREMIUM_INDENIZADA'], errors='coerce')\n",
    "# ativos_alter.info()"
   ]
  },
  {
   "cell_type": "code",
   "execution_count": null,
   "metadata": {},
   "outputs": [],
   "source": []
  },
  {
   "cell_type": "code",
   "execution_count": null,
   "metadata": {},
   "outputs": [],
   "source": []
  },
  {
   "cell_type": "code",
   "execution_count": null,
   "metadata": {},
   "outputs": [],
   "source": []
  },
  {
   "cell_type": "code",
   "execution_count": null,
   "metadata": {},
   "outputs": [],
   "source": []
  },
  {
   "cell_type": "code",
   "execution_count": null,
   "metadata": {},
   "outputs": [],
   "source": []
  },
  {
   "cell_type": "code",
   "execution_count": null,
   "metadata": {},
   "outputs": [],
   "source": []
  },
  {
   "cell_type": "code",
   "execution_count": null,
   "metadata": {},
   "outputs": [],
   "source": []
  },
  {
   "cell_type": "code",
   "execution_count": null,
   "metadata": {},
   "outputs": [],
   "source": []
  },
  {
   "cell_type": "code",
   "execution_count": null,
   "metadata": {},
   "outputs": [],
   "source": []
  },
  {
   "cell_type": "code",
   "execution_count": null,
   "metadata": {},
   "outputs": [],
   "source": []
  },
  {
   "cell_type": "code",
   "execution_count": null,
   "metadata": {},
   "outputs": [],
   "source": []
  },
  {
   "cell_type": "markdown",
   "metadata": {},
   "source": [
    "#### COMANDOS GIT AUXILIO"
   ]
  },
  {
   "cell_type": "code",
   "execution_count": null,
   "metadata": {},
   "outputs": [],
   "source": [
    "\"\"\"\n",
    "COMANDOS TERMINAL\n",
    "\n",
    "cd.. --> retorna para a pasta anterior\n",
    "cd nome da pasta --> entra na pasta\n",
    "ls ou dir --> descreve o que tem dentro do diretorio\n",
    "\n",
    "\n",
    "COMANDOS GIT (DIA-A-DIA)\n",
    "\n",
    "git --help --> ajuda monstrando todos os comandos do git\n",
    "git pull --> traz os dados do repositorio remoto para o repositorio local\n",
    "git status --> mostra o estado do repositorio\n",
    "git add nome_do_arquivo --> adiciona um arquivo para stage (commitar)\n",
    "git add . --> adiciona todos arquivos para stage (commitar)\n",
    "git commit -m 'mensagem do commit' --> cria um commit com a mensagem\n",
    "git push --> envia os commits para o repositorio remoto\n",
    "\n",
    "COMO CRIAR UM ARQUIVO .gitignore\n",
    "\n",
    "1° Executar no terminal --> New-Item -Path .gitignore -ItemType File\n",
    "2° Adicionar os nomes dos arquivos ou pastas que você não quer versionar no arquivo .gitignore\n",
    "3° Abra o arquivo .gitignore e escreva *.csv (Assim todos os arquivos com .csv serão ignorados como stage, para arquivos especificos, tirar o *)\n",
    "4° Salvar o arquivo.gitignore\n",
    "\n",
    "\n",
    "COMANDOS GIT (TODOS)\n",
    "git init --> inicializa um repositorio novo\n",
    "git clone url_do_repositorio --> clona um repositorio do github\n",
    "git status --> mostra o estado do repositorio\n",
    "git add nome_do_arquivo --> adiciona um arquivo ao commit\n",
    "git commit -m 'mensagem do commit' --> cria um commit com a mensagem\n",
    "git push --> envia os commits para o repositorio remoto\n",
    "git checkout nome_da_branch --> muda para uma branch existente\n",
    "git checkout -b nome_da_nova_branch --> cria uma nova branch e muda para ela\n",
    "git merge nome_da_branch --> mescla a branch atual com a branch fornecida\n",
    "git branch -d nome_da_branch --> deleta a branch fornecida\n",
    "git stash --> salva o estado atual do repositorio em uma pilha de trabalho\n",
    "git stash pop --> restaura o estado anterior do repositorio da pilha de trabalho\n",
    "git log --> mostra os commits realizados\n",
    "git diff nome_do_arquivo --> mostra as diferenças entre o arquivo e seu estado anterior\n",
    "git blame nome_do_arquivo --> mostra o que foi feito por cada commit em um arquivo\n",
    "git reset --hard HEAD~n --> desfaz as últimas n commits\n",
    "git reflog --> mostra todos os commits realizados com um link para cada commit\n",
    "git remote add origin url_do_repositorio --> adiciona um novo remote ao repositório\n",
    "git push -u origin nome_da_nova_branch --> adiciona o novo remote ao repositório e envia a nova branch para o repositório remoto\n",
    "git pull origin nome_da_nova_branch --> atualiza a branch com as alterações do repositório remoto\n",
    "git tag nome_da_tag --> cria uma tag com o nome fornecido\n",
    "git push origin --tags --> envia todas as tags para o repositório remoto\n",
    "git checkout nome_da_tag --> muda para a tag fornecida\n",
    "git revert nome_do_commit --> desfaz o commit fornecido\n",
    "git clean -df --> remove todos os arquivos e diretórios não versionados\n",
    "git config --global core.autocrlf true --> configura git para conseguir aceitar mudanças de CRLF\n",
    "git config --global core.safecrlf false --> configura git para não conseguir aceitar mudanças de CRLF\n",
    "git config --global diff.tool meld --> configura git para usar o meld como difftool\n",
    "git config --global merge.tool meld --> configura git para usar o meld como merge tool\n",
    "git config --global difftool.meld.path \"C:\\Program Files (x86)\\Meld\\Meld.exe\" --> configura o caminho do meld como difftool\n",
    "git config --global merge.tool.meld.cmd \"meld --diff %O %A\" --> configura o comando do meld como merge tool\n",
    "git config --global difftool.meld.opts \"--output %f -d %o %a\" --> configura os argumentos do meld para difftool\n",
    "git config --global mergetool.meld.keepTempFiles false --> configura git para não manter os temp files do meld\n",
    "git config --global mergetool.meld.trustExitCode false --> configura git para não verificar o exit code do meld\n",
    "git config --global mergetool.meld.keepTempFiles false --> configura git para não manter os temp files do meld\n",
    "git config --global mergetool.meld.trustExitCode false --> configura git para não verificar o exit code do meld\n",
    "git config --global mergetool.meld.keepTempFiles false --> configura git para não manter os temp files do meld\n",
    "git config --global mergetool.meld.trustExitCode false --> configura git para não verificar o exit code do meld\n",
    "git config --global mergetool.meld.keepTempFiles false --> configura git para não manter os temp files do meld\n",
    "git config --global mergetool.meld.trustExitCode false --> configura git para não verificar o exit code do meld\n",
    "git config --global mergetool.meld.keepTempFiles false --> configura git para não manter os temp files do meld\n",
    "git config --global mergetool.meld.trustExitCode false --> configura git para não verificar o exit code do meld\n",
    "git config --global mergetool.meld.keepTempFiles false --> configura git para não manter os temp files do meld\n",
    "git config --global mergetool.meld.trustExitCode false --> configura git para não verificar o exit code do meld\n",
    "\n",
    "\n",
    "\"\"\""
   ]
  },
  {
   "cell_type": "markdown",
   "metadata": {},
   "source": [
    "##### PROMPT IA GENERATIVA"
   ]
  },
  {
   "cell_type": "code",
   "execution_count": null,
   "metadata": {},
   "outputs": [],
   "source": [
    "\"\"\"\n",
    "\n",
    "1 - Você é um especialista em datascience com enfase em python\n",
    "2 - voce ira me auxiliar nas analises de dado que eu preciso \n",
    "3 - voce ira primeiramente compreender a minha necessidade que estará sempre no item 5\n",
    "4 - voce ira observar o código que estou tentando executar (se possuir), se existir estará no item 6 \n",
    "4 - voce ira responder o problema em etapas sendo elas: 1.1 - compreender o que estou pedindo, 1.2 - explicar pq o meu codigo esta errado, 1.3 - mostrar como deveria ser feito\n",
    "5 - Surgiu um problema conforme resposta anterior, pois, foi alterado o dataframe ativos_alter2, entretanto, o ativos também teve sua tipagem alterada\n",
    "6 - O código que tentei executar é --> ativos_alter2[\"NOME\"] = ativos_alter2[\"NOME\"].astype('string')\n",
    "7 - Por fim, apresente as fontes que utilizou para responder essas questões em forma de tabela\n",
    "\n",
    "\"\"\""
   ]
  }
 ],
 "metadata": {
  "kernelspec": {
   "display_name": "Python 3",
   "language": "python",
   "name": "python3"
  },
  "language_info": {
   "codemirror_mode": {
    "name": "ipython",
    "version": 3
   },
   "file_extension": ".py",
   "mimetype": "text/x-python",
   "name": "python",
   "nbconvert_exporter": "python",
   "pygments_lexer": "ipython3",
   "version": "3.12.1"
  }
 },
 "nbformat": 4,
 "nbformat_minor": 2
}
