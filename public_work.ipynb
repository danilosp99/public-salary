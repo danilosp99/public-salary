{
 "cells": [
  {
   "cell_type": "code",
   "execution_count": null,
   "metadata": {},
   "outputs": [],
   "source": []
  },
  {
   "cell_type": "code",
   "execution_count": 1,
   "metadata": {},
   "outputs": [],
   "source": [
    "##### BIBLIOTECA PARA MANIPULAÇÃO DE DADOS\n",
    "\n",
    "import pandas as pd\n",
    "import numpy as np\n",
    "import datetime\n",
    "from datetime import date\n",
    "import seaborn as sns\n",
    "\n",
    "##### CONFIGURAÇÃO DE UTILIZAÇÃO DO DRIVE\n",
    "import warnings\n",
    "\n",
    "##### VERIFICAÇÃO DE ENCONDING DE ARQUIVO\n",
    "import chardet"
   ]
  },
  {
   "cell_type": "code",
   "execution_count": 2,
   "metadata": {},
   "outputs": [
    {
     "name": "stdout",
     "output_type": "stream",
     "text": [
      "Encoding detectado: ISO-8859-1\n"
     ]
    }
   ],
   "source": [
    "\"\"\"ERRO 1 - UnicodeDecodeError: 'utf-8' codec can't decode byte 0xc3 in position 14: invalid continuation byte\n",
    "\n",
    "--> Erro pelo encoding do arquivo ser diferente\n",
    "\"\"\"\n",
    "\n",
    "##### Função para detectar o encoding do arquivo\n",
    "def detectar_encoding(arquivo, sample_size=10000):\n",
    "    with open(arquivo, 'rb') as f:\n",
    "        # Lê apenas uma amostra inicial do arquivo\n",
    "        sample = f.read(sample_size)\n",
    "    return chardet.detect(sample)['encoding']\n",
    "\n",
    "# Uso\n",
    "encoding_arquivo = detectar_encoding('RemuneracaoAtivos.csv')\n",
    "print(f\"Encoding detectado: {encoding_arquivo}\")"
   ]
  },
  {
   "cell_type": "code",
   "execution_count": 3,
   "metadata": {},
   "outputs": [],
   "source": [
    "\"\"\"ERRO 2 - ParserError: Error tokenizing data. C error: Expected 8 fields in line 230, saw 9\n",
    "\n",
    "--> Erro pelo arquivo estar sem delimitador\n",
    "\"\"\"\n",
    "# Carregar o arquivo usando o encoding detectado e delimitador\n",
    "\n",
    "ativos = pd.read_csv('RemuneracaoAtivos.csv', \n",
    "                     encoding=encoding_arquivo,\n",
    "                     delimiter=\";\",\n",
    "                     on_bad_lines='warn',\n",
    "\n",
    ")"
   ]
  },
  {
   "cell_type": "code",
   "execution_count": null,
   "metadata": {},
   "outputs": [],
   "source": []
  },
  {
   "cell_type": "code",
   "execution_count": 4,
   "metadata": {},
   "outputs": [
    {
     "data": {
      "text/html": [
       "<div>\n",
       "<style scoped>\n",
       "    .dataframe tbody tr th:only-of-type {\n",
       "        vertical-align: middle;\n",
       "    }\n",
       "\n",
       "    .dataframe tbody tr th {\n",
       "        vertical-align: top;\n",
       "    }\n",
       "\n",
       "    .dataframe thead th {\n",
       "        text-align: right;\n",
       "    }\n",
       "</style>\n",
       "<table border=\"1\" class=\"dataframe\">\n",
       "  <thead>\n",
       "    <tr style=\"text-align: right;\">\n",
       "      <th></th>\n",
       "      <th>NOME</th>\n",
       "      <th>CARGO</th>\n",
       "      <th>ORGAO</th>\n",
       "      <th>REMUNERACAO_MES</th>\n",
       "      <th>FERIAS_E_13</th>\n",
       "      <th>PAGAMENTOS_EVENTUAIS</th>\n",
       "      <th>LICENCA_PREMIUM_INDENIZADA</th>\n",
       "      <th>ABONO_PERM_E_OUTRAS_INDENIZ</th>\n",
       "      <th>REDUTOR_SALARIAL</th>\n",
       "      <th>TOTAL_LIQUIDO</th>\n",
       "      <th>GRUPO</th>\n",
       "    </tr>\n",
       "  </thead>\n",
       "  <tbody>\n",
       "    <tr>\n",
       "      <th>0</th>\n",
       "      <td>AAIRON TELES DE CAMARGO</td>\n",
       "      <td>OFICIAL ADMINISTRATIVO</td>\n",
       "      <td>DEPT.ESTAD.TRANSITO DETRAN SP</td>\n",
       "      <td>2839,42</td>\n",
       "      <td>0,00</td>\n",
       "      <td>56,77</td>\n",
       "      <td>0,00</td>\n",
       "      <td>0,00</td>\n",
       "      <td>0,00</td>\n",
       "      <td>0,00</td>\n",
       "      <td>ATIVOS</td>\n",
       "    </tr>\n",
       "    <tr>\n",
       "      <th>1</th>\n",
       "      <td>AALAN DA SILVA ARAUJO</td>\n",
       "      <td>SD 1C PM</td>\n",
       "      <td>POLICIA MILITAR SAO PAULO</td>\n",
       "      <td>5937,48</td>\n",
       "      <td>2279,75</td>\n",
       "      <td>0,00</td>\n",
       "      <td>0,00</td>\n",
       "      <td>1110,60</td>\n",
       "      <td>0,00</td>\n",
       "      <td>5738,57</td>\n",
       "      <td>ATIVOS</td>\n",
       "    </tr>\n",
       "  </tbody>\n",
       "</table>\n",
       "</div>"
      ],
      "text/plain": [
       "                      NOME                   CARGO  \\\n",
       "0  AAIRON TELES DE CAMARGO  OFICIAL ADMINISTRATIVO   \n",
       "1    AALAN DA SILVA ARAUJO                SD 1C PM   \n",
       "\n",
       "                           ORGAO REMUNERACAO_MES FERIAS_E_13  \\\n",
       "0  DEPT.ESTAD.TRANSITO DETRAN SP         2839,42        0,00   \n",
       "1      POLICIA MILITAR SAO PAULO         5937,48     2279,75   \n",
       "\n",
       "  PAGAMENTOS_EVENTUAIS LICENCA_PREMIUM_INDENIZADA ABONO_PERM_E_OUTRAS_INDENIZ  \\\n",
       "0                56,77                       0,00                        0,00   \n",
       "1                 0,00                       0,00                     1110,60   \n",
       "\n",
       "  REDUTOR_SALARIAL TOTAL_LIQUIDO   GRUPO  \n",
       "0             0,00          0,00  ATIVOS  \n",
       "1             0,00       5738,57  ATIVOS  "
      ]
     },
     "execution_count": 4,
     "metadata": {},
     "output_type": "execute_result"
    }
   ],
   "source": [
    "# VENDO A BASE\n",
    "\n",
    "ativos.head(2)\n",
    "ativos_alter = ativos\n",
    "\n",
    "\n",
    "# RENOMEANDO COLUNAS\n",
    "\n",
    "# Remove espaços e tabs no final dos nomes das colunas\n",
    "ativos_alter.columns.str.strip()\n",
    "\n",
    "# Agora renomeie (sem os caracteres extras)\n",
    "ativos_alter.rename(\n",
    "    columns={\n",
    "        \"ORGÃO\": \"ORGAO\",\n",
    "        \"REMUNERAÇÃO DO MÊS\": \"REMUNERACAO_MES\",\n",
    "        \"FÉRIAS E 13º SALÁRIO\": \"FERIAS_E_13\",\n",
    "        \"PAGAMENTOS EVENTUAIS\": \"PAGAMENTOS_EVENTUAIS\",\n",
    "        \"LICENÇA PRÊMIO INDENIZADA\": \"LICENCA_PREMIUM_INDENIZADA\",\n",
    "        \"ABONO PERMANÊNCIA & OUTRAS INDENIZAÇÕES\": \"ABONO_PERM_E_OUTRAS_INDENIZ\",\n",
    "        \"REDUTOR SALARIAL\": \"REDUTOR_SALARIAL\",\n",
    "        \"TOTAL LIQUÍDO (R$)\": \"TOTAL_LIQUIDO\"\n",
    "    }, \n",
    "    inplace=True\n",
    ") \n",
    "\n",
    "ativos_alter.head(2)\n"
   ]
  },
  {
   "cell_type": "code",
   "execution_count": 5,
   "metadata": {},
   "outputs": [],
   "source": [
    "teste = ativos_alter.query(\"ORGAO == 'SECRETARIA DA EDUCACAO'\")"
   ]
  },
  {
   "cell_type": "code",
   "execution_count": 6,
   "metadata": {},
   "outputs": [
    {
     "data": {
      "text/html": [
       "<div>\n",
       "<style scoped>\n",
       "    .dataframe tbody tr th:only-of-type {\n",
       "        vertical-align: middle;\n",
       "    }\n",
       "\n",
       "    .dataframe tbody tr th {\n",
       "        vertical-align: top;\n",
       "    }\n",
       "\n",
       "    .dataframe thead th {\n",
       "        text-align: right;\n",
       "    }\n",
       "</style>\n",
       "<table border=\"1\" class=\"dataframe\">\n",
       "  <thead>\n",
       "    <tr style=\"text-align: right;\">\n",
       "      <th></th>\n",
       "      <th>NOME</th>\n",
       "      <th>CARGO</th>\n",
       "      <th>ORGAO</th>\n",
       "      <th>REMUNERACAO_MES</th>\n",
       "      <th>FERIAS_E_13</th>\n",
       "      <th>PAGAMENTOS_EVENTUAIS</th>\n",
       "      <th>LICENCA_PREMIUM_INDENIZADA</th>\n",
       "      <th>ABONO_PERM_E_OUTRAS_INDENIZ</th>\n",
       "      <th>REDUTOR_SALARIAL</th>\n",
       "      <th>TOTAL_LIQUIDO</th>\n",
       "      <th>GRUPO</th>\n",
       "    </tr>\n",
       "  </thead>\n",
       "  <tbody>\n",
       "    <tr>\n",
       "      <th>4</th>\n",
       "      <td>AARIN LEAL SANTOS</td>\n",
       "      <td>PROF ENSINO FUNDAMENTAL/MEDIO</td>\n",
       "      <td>SECRETARIA DA EDUCACAO</td>\n",
       "      <td>6908,00</td>\n",
       "      <td>0,00</td>\n",
       "      <td>-38,86</td>\n",
       "      <td>0,00</td>\n",
       "      <td>0,00</td>\n",
       "      <td>0,00</td>\n",
       "      <td>5316,96</td>\n",
       "      <td>ATIVOS</td>\n",
       "    </tr>\n",
       "  </tbody>\n",
       "</table>\n",
       "</div>"
      ],
      "text/plain": [
       "                NOME                          CARGO                   ORGAO  \\\n",
       "4  AARIN LEAL SANTOS  PROF ENSINO FUNDAMENTAL/MEDIO  SECRETARIA DA EDUCACAO   \n",
       "\n",
       "  REMUNERACAO_MES FERIAS_E_13 PAGAMENTOS_EVENTUAIS LICENCA_PREMIUM_INDENIZADA  \\\n",
       "4         6908,00        0,00               -38,86                       0,00   \n",
       "\n",
       "  ABONO_PERM_E_OUTRAS_INDENIZ REDUTOR_SALARIAL TOTAL_LIQUIDO   GRUPO  \n",
       "4                        0,00             0,00       5316,96  ATIVOS  "
      ]
     },
     "execution_count": 6,
     "metadata": {},
     "output_type": "execute_result"
    }
   ],
   "source": [
    "teste.head(1)"
   ]
  },
  {
   "cell_type": "code",
   "execution_count": null,
   "metadata": {},
   "outputs": [],
   "source": []
  },
  {
   "cell_type": "code",
   "execution_count": null,
   "metadata": {},
   "outputs": [],
   "source": []
  },
  {
   "cell_type": "code",
   "execution_count": null,
   "metadata": {},
   "outputs": [],
   "source": []
  }
 ],
 "metadata": {
  "kernelspec": {
   "display_name": "Python 3",
   "language": "python",
   "name": "python3"
  },
  "language_info": {
   "codemirror_mode": {
    "name": "ipython",
    "version": 3
   },
   "file_extension": ".py",
   "mimetype": "text/x-python",
   "name": "python",
   "nbconvert_exporter": "python",
   "pygments_lexer": "ipython3",
   "version": "3.12.1"
  }
 },
 "nbformat": 4,
 "nbformat_minor": 2
}
